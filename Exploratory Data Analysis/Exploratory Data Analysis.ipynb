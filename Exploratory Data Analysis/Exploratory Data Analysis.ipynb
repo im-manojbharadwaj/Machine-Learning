{
 "cells": [
  {
   "cell_type": "markdown",
   "metadata": {},
   "source": [
    "# Exploratory Data Analysis"
   ]
  },
  {
   "cell_type": "code",
   "execution_count": 174,
   "metadata": {},
   "outputs": [
    {
     "data": {
      "text/plain": [
       "<matplotlib.axes._subplots.AxesSubplot at 0x18b59190080>"
      ]
     },
     "execution_count": 174,
     "metadata": {},
     "output_type": "execute_result"
    },
    {
     "data": {
      "image/png": "[encoded data removed]",
      "text/plain": [
       "<matplotlib.figure.Figure at 0x18b591b1d30>"
      ]
     },
     "metadata": {},
     "output_type": "display_data"
    }
   ],
   "source": [
    "import numpy as np\n",
    "import pandas as pd\n",
    "import matplotlib.pyplot as plt\n",
    "import seaborn as sns\n",
    "\n",
    "# read_csv file is a panda fucntion which will read the data into a variable\n",
    "df = pd.read_csv('C:\\\\Users\\\\m1043057\\\\Documents\\\\Python Scripts\\\\Data Sets\\\\telecom_churn.csv')\n",
    "\n",
    "# head() function will give first 5 rows of the csv file\n",
    "df.head()\n",
    "\n",
    "# tail() funciton will give last 5 rows of the csv file\n",
    "df.tail()\n",
    "\n",
    "# Both the below code will give all the value where Churn column = True\n",
    "df[df.Churn == True]\n",
    "df[df['Churn'].apply(lambda Churn: Churn == True)].head()\n",
    "\n",
    "# describe() shows basic statistical characteristics of each numerical feature\n",
    "#false_data = df[df.Churn == False].describe()\n",
    "#true_data = df[df.Churn == True].describe()\n",
    "\n",
    "# to_csv() will write the data into destined file. to should be csv extension itself\n",
    "#false_data.to_csv('C:\\\\Users\\\\m1043057\\\\Documents\\\\Python Scripts\\\\Data Sets\\\\false_churn.csv')\n",
    "#true_data.to_csv('C:\\\\Users\\\\m1043057\\\\Documents\\\\Python Scripts\\\\Data Sets\\\\true_churn.csv')\n",
    "\n",
    "# info gives what kind of data type the columns are\n",
    "#df.info()\n",
    "\n",
    "# value_counts() function gives count of different type of values present in the column\n",
    "df['Churn'].value_counts()\n",
    "\n",
    "# mean() will fetch the mean value of that specified column\n",
    "#df['Churn'].mean() # 14.5% is actually quite bad for a company; such a churn rate can make the company go bankrupt.\n",
    "\n",
    "# time (on average) do churned users spend on the phone during daytime\n",
    "#df[df['Churn'] == True]['Total day minutes'].mean()\n",
    "\n",
    "# the maximum length of international calls among loyal users (Churn == False) who do not have an international plan\n",
    "#df[(df['Churn'] == True) & (df['International plan'] == 'No')]['Total intl minutes'].max()\n",
    "\n",
    "\n",
    "# replace the values by using dict to specific column using map function\n",
    "#d = {False: 0, True: 1}\n",
    "#df['Churn'] = df['Churn'].map(d)\n",
    "\n",
    "\n",
    "# 1. First, the groupby method divides the grouping_columns by their values. They become a new index in the resulting dataframe.\n",
    "# 2. Then, columns of interest are selected (columns_to_show). If columns_to_show is not included, all non groupby clauses will be included.\n",
    "# 3. Finally, one or several functions are applied to the obtained groups per selected columns.\n",
    "columns_to_show = ['Total day minutes', 'Total night minutes']\n",
    "df.groupby(['Churn'])[columns_to_show].describe()\n",
    "\n",
    "\n",
    "#Shows the crosstab between Churn and INternational Plan. \n",
    "#Clearly it shows, the loyal customers did not opt for International Plan\n",
    "pd.crosstab(df['Churn'], df['International plan'])\n",
    "\n",
    "\n",
    "# Shows the crosstab between Churn and INternational Plan. \n",
    "# Clearly it shows, the loyal customers did not opt for Voice Mail Plan\n",
    "pd.crosstab(df['Churn'], df['Voice mail plan'], normalize = True)\n",
    "\n",
    "\n",
    "# Take a look at the average number of day, evening, and night calls by area code\n",
    "df.pivot_table(['Total day calls', 'Total eve calls', 'Total night calls'],['Area code'], aggfunc = 'mean')\n",
    "\n",
    "\n",
    "#DataFrame Transformations\n",
    "# Let us see by adding total calls did across and add as new column to our data frame\n",
    "total_calls = df['Total day calls'] + df['Total eve calls'] + df['Total night calls'] + df['Total intl calls']\n",
    "df.insert(loc=len(df.columns), column='Total calls', value = total_calls)\n",
    "df.head()\n",
    "\n",
    "\n",
    "# Similarly let us see by adding total charge for those calls and add as new column to our data frame\n",
    "total_charge = df['Total day charge'] + df['Total eve charge'] + df['Total night charge'] + df['Total intl charge']\n",
    "df.insert(loc=len(df.columns), column = 'Total charge', value = total_charge)\n",
    "df.head()\n",
    "\n",
    "\n",
    "# get rid of just created columns\n",
    "df.drop(['Total calls', 'Total charge'], axis = 1, inplace = True)\n",
    "df.head()\n",
    "\n",
    "\n",
    "# Let us attempt to predict telecom churn\n",
    "pd.crosstab(df['Churn'], df['International plan'], margins = True)\n",
    "\n",
    "\n",
    "sns.countplot(x='International plan', hue = 'Churn', data = df)\n",
    "# Interesting observation is the customers with International Plan has churn rate high.\n",
    "# Meaning the telecom is providing very bad service for the International package due to which they're losing customers"
   ]
  },
  {
   "cell_type": "code",
   "execution_count": 173,
   "metadata": {},
   "outputs": [
    {
     "data": {
      "text/plain": [
       "<matplotlib.axes._subplots.AxesSubplot at 0x18b598dd5f8>"
      ]
     },
     "execution_count": 173,
     "metadata": {},
     "output_type": "execute_result"
    },
    {
     "data": {
      "image/png": "[encoded data removed]",
      "text/plain": [
       "<matplotlib.figure.Figure at 0x18b5993e198>"
      ]
     },
     "metadata": {},
     "output_type": "display_data"
    }
   ],
   "source": [
    "\n",
    "plo = pd.crosstab(df['Churn'], df['Customer service calls'])\n",
    "plo\n",
    "\n",
    "sns.countplot(x='Customer service calls', hue='Churn', data=df)"
   ]
  },
  {
   "cell_type": "code",
   "execution_count": null,
   "metadata": {},
   "outputs": [],
   "source": []
  }
 ],
 "metadata": {
  "kernelspec": {
   "display_name": "Python 3",
   "language": "python",
   "name": "python3"
  },
  "language_info": {
   "codemirror_mode": {
    "name": "ipython",
    "version": 3
   },
   "file_extension": ".py",
   "mimetype": "text/x-python",
   "name": "python",
   "nbconvert_exporter": "python",
   "pygments_lexer": "ipython3",
   "version": "3.6.4"
  }
 },
 "nbformat": 4,
 "nbformat_minor": 2
}
