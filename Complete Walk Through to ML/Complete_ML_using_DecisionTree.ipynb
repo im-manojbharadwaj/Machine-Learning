{
 "cells": [
  {
   "cell_type": "markdown",
   "metadata": {},
   "source": [
    "# Basics of Machine Learning using Decision Tree"
   ]
  },
  {
   "cell_type": "markdown",
   "metadata": {},
   "source": [
    "![](https://www.clipartwiki.com/clipimg/full/99-992888_eastern-black-walnut-english-walnut-drawing-tree-walnut.png)\n",
    "\n",
    "<div style=\"text-align: right\"><i><font size=\"2\">Author: <a href=\"https://www.linkedin.com/in/manoj95/\" target=\"_parent\">Manoj Chandrashekar (M)</a></font></i></div>"
   ]
  },
  {
   "cell_type": "code",
   "execution_count": 1,
   "metadata": {},
   "outputs": [
    {
     "data": {
      "text/html": [
       "<div>\n",
       "<style scoped>\n",
       "    .dataframe tbody tr th:only-of-type {\n",
       "        vertical-align: middle;\n",
       "    }\n",
       "\n",
       "    .dataframe tbody tr th {\n",
       "        vertical-align: top;\n",
       "    }\n",
       "\n",
       "    .dataframe thead th {\n",
       "        text-align: right;\n",
       "    }\n",
       "</style>\n",
       "<table border=\"1\" class=\"dataframe\">\n",
       "  <thead>\n",
       "    <tr style=\"text-align: right;\">\n",
       "      <th></th>\n",
       "      <th>Unnamed: 0</th>\n",
       "      <th>Rooms</th>\n",
       "      <th>Price</th>\n",
       "      <th>Distance</th>\n",
       "      <th>Postcode</th>\n",
       "      <th>Bedroom2</th>\n",
       "      <th>Bathroom</th>\n",
       "      <th>Car</th>\n",
       "      <th>Landsize</th>\n",
       "      <th>BuildingArea</th>\n",
       "      <th>YearBuilt</th>\n",
       "      <th>Lattitude</th>\n",
       "      <th>Longtitude</th>\n",
       "      <th>Propertycount</th>\n",
       "    </tr>\n",
       "  </thead>\n",
       "  <tbody>\n",
       "    <tr>\n",
       "      <th>count</th>\n",
       "      <td>18396.000000</td>\n",
       "      <td>18396.000000</td>\n",
       "      <td>1.839600e+04</td>\n",
       "      <td>18395.000000</td>\n",
       "      <td>18395.000000</td>\n",
       "      <td>14927.000000</td>\n",
       "      <td>14925.000000</td>\n",
       "      <td>14820.000000</td>\n",
       "      <td>13603.000000</td>\n",
       "      <td>7762.000000</td>\n",
       "      <td>8958.000000</td>\n",
       "      <td>15064.000000</td>\n",
       "      <td>15064.000000</td>\n",
       "      <td>18395.000000</td>\n",
       "    </tr>\n",
       "    <tr>\n",
       "      <th>mean</th>\n",
       "      <td>11826.787073</td>\n",
       "      <td>2.935040</td>\n",
       "      <td>1.056697e+06</td>\n",
       "      <td>10.389986</td>\n",
       "      <td>3107.140147</td>\n",
       "      <td>2.913043</td>\n",
       "      <td>1.538492</td>\n",
       "      <td>1.615520</td>\n",
       "      <td>558.116371</td>\n",
       "      <td>151.220219</td>\n",
       "      <td>1965.879996</td>\n",
       "      <td>-37.809849</td>\n",
       "      <td>144.996338</td>\n",
       "      <td>7517.975265</td>\n",
       "    </tr>\n",
       "    <tr>\n",
       "      <th>std</th>\n",
       "      <td>6800.710448</td>\n",
       "      <td>0.958202</td>\n",
       "      <td>6.419217e+05</td>\n",
       "      <td>6.009050</td>\n",
       "      <td>95.000995</td>\n",
       "      <td>0.964641</td>\n",
       "      <td>0.689311</td>\n",
       "      <td>0.955916</td>\n",
       "      <td>3987.326586</td>\n",
       "      <td>519.188596</td>\n",
       "      <td>37.013261</td>\n",
       "      <td>0.081152</td>\n",
       "      <td>0.106375</td>\n",
       "      <td>4488.416599</td>\n",
       "    </tr>\n",
       "    <tr>\n",
       "      <th>min</th>\n",
       "      <td>1.000000</td>\n",
       "      <td>1.000000</td>\n",
       "      <td>8.500000e+04</td>\n",
       "      <td>0.000000</td>\n",
       "      <td>3000.000000</td>\n",
       "      <td>0.000000</td>\n",
       "      <td>0.000000</td>\n",
       "      <td>0.000000</td>\n",
       "      <td>0.000000</td>\n",
       "      <td>0.000000</td>\n",
       "      <td>1196.000000</td>\n",
       "      <td>-38.182550</td>\n",
       "      <td>144.431810</td>\n",
       "      <td>249.000000</td>\n",
       "    </tr>\n",
       "    <tr>\n",
       "      <th>25%</th>\n",
       "      <td>5936.750000</td>\n",
       "      <td>2.000000</td>\n",
       "      <td>6.330000e+05</td>\n",
       "      <td>6.300000</td>\n",
       "      <td>3046.000000</td>\n",
       "      <td>2.000000</td>\n",
       "      <td>1.000000</td>\n",
       "      <td>1.000000</td>\n",
       "      <td>176.500000</td>\n",
       "      <td>93.000000</td>\n",
       "      <td>1950.000000</td>\n",
       "      <td>-37.858100</td>\n",
       "      <td>144.931193</td>\n",
       "      <td>4294.000000</td>\n",
       "    </tr>\n",
       "    <tr>\n",
       "      <th>50%</th>\n",
       "      <td>11820.500000</td>\n",
       "      <td>3.000000</td>\n",
       "      <td>8.800000e+05</td>\n",
       "      <td>9.700000</td>\n",
       "      <td>3085.000000</td>\n",
       "      <td>3.000000</td>\n",
       "      <td>1.000000</td>\n",
       "      <td>2.000000</td>\n",
       "      <td>440.000000</td>\n",
       "      <td>126.000000</td>\n",
       "      <td>1970.000000</td>\n",
       "      <td>-37.803625</td>\n",
       "      <td>145.000920</td>\n",
       "      <td>6567.000000</td>\n",
       "    </tr>\n",
       "    <tr>\n",
       "      <th>75%</th>\n",
       "      <td>17734.250000</td>\n",
       "      <td>3.000000</td>\n",
       "      <td>1.302000e+06</td>\n",
       "      <td>13.300000</td>\n",
       "      <td>3149.000000</td>\n",
       "      <td>3.000000</td>\n",
       "      <td>2.000000</td>\n",
       "      <td>2.000000</td>\n",
       "      <td>651.000000</td>\n",
       "      <td>174.000000</td>\n",
       "      <td>2000.000000</td>\n",
       "      <td>-37.756270</td>\n",
       "      <td>145.060000</td>\n",
       "      <td>10331.000000</td>\n",
       "    </tr>\n",
       "    <tr>\n",
       "      <th>max</th>\n",
       "      <td>23546.000000</td>\n",
       "      <td>12.000000</td>\n",
       "      <td>9.000000e+06</td>\n",
       "      <td>48.100000</td>\n",
       "      <td>3978.000000</td>\n",
       "      <td>20.000000</td>\n",
       "      <td>8.000000</td>\n",
       "      <td>10.000000</td>\n",
       "      <td>433014.000000</td>\n",
       "      <td>44515.000000</td>\n",
       "      <td>2018.000000</td>\n",
       "      <td>-37.408530</td>\n",
       "      <td>145.526350</td>\n",
       "      <td>21650.000000</td>\n",
       "    </tr>\n",
       "  </tbody>\n",
       "</table>\n",
       "</div>"
      ],
      "text/plain": [
       "         Unnamed: 0         Rooms         Price      Distance      Postcode  \\\n",
       "count  18396.000000  18396.000000  1.839600e+04  18395.000000  18395.000000   \n",
       "mean   11826.787073      2.935040  1.056697e+06     10.389986   3107.140147   \n",
       "std     6800.710448      0.958202  6.419217e+05      6.009050     95.000995   \n",
       "min        1.000000      1.000000  8.500000e+04      0.000000   3000.000000   \n",
       "25%     5936.750000      2.000000  6.330000e+05      6.300000   3046.000000   \n",
       "50%    11820.500000      3.000000  8.800000e+05      9.700000   3085.000000   \n",
       "75%    17734.250000      3.000000  1.302000e+06     13.300000   3149.000000   \n",
       "max    23546.000000     12.000000  9.000000e+06     48.100000   3978.000000   \n",
       "\n",
       "           Bedroom2      Bathroom           Car       Landsize  BuildingArea  \\\n",
       "count  14927.000000  14925.000000  14820.000000   13603.000000   7762.000000   \n",
       "mean       2.913043      1.538492      1.615520     558.116371    151.220219   \n",
       "std        0.964641      0.689311      0.955916    3987.326586    519.188596   \n",
       "min        0.000000      0.000000      0.000000       0.000000      0.000000   \n",
       "25%        2.000000      1.000000      1.000000     176.500000     93.000000   \n",
       "50%        3.000000      1.000000      2.000000     440.000000    126.000000   \n",
       "75%        3.000000      2.000000      2.000000     651.000000    174.000000   \n",
       "max       20.000000      8.000000     10.000000  433014.000000  44515.000000   \n",
       "\n",
       "         YearBuilt     Lattitude    Longtitude  Propertycount  \n",
       "count  8958.000000  15064.000000  15064.000000   18395.000000  \n",
       "mean   1965.879996    -37.809849    144.996338    7517.975265  \n",
       "std      37.013261      0.081152      0.106375    4488.416599  \n",
       "min    1196.000000    -38.182550    144.431810     249.000000  \n",
       "25%    1950.000000    -37.858100    144.931193    4294.000000  \n",
       "50%    1970.000000    -37.803625    145.000920    6567.000000  \n",
       "75%    2000.000000    -37.756270    145.060000   10331.000000  \n",
       "max    2018.000000    -37.408530    145.526350   21650.000000  "
      ]
     },
     "execution_count": 1,
     "metadata": {},
     "output_type": "execute_result"
    }
   ],
   "source": [
    "import pandas as pd\n",
    "\n",
    "# Read the data and store it in DataFrame\n",
    "melbourne_file_path = 'C:\\\\Users\\\\itsma\\\\Documents\\\\Python Scripts\\\\Data Sets\\\\melb_data.csv'\n",
    "melbourne_data = pd.read_csv(melbourne_file_path)\n",
    "\n",
    "# Print\n",
    "melbourne_data.describe()"
   ]
  },
  {
   "cell_type": "code",
   "execution_count": 2,
   "metadata": {},
   "outputs": [
    {
     "data": {
      "text/plain": [
       "Index(['Unnamed: 0', 'Suburb', 'Address', 'Rooms', 'Type', 'Price', 'Method',\n",
       "       'SellerG', 'Date', 'Distance', 'Postcode', 'Bedroom2', 'Bathroom',\n",
       "       'Car', 'Landsize', 'BuildingArea', 'YearBuilt', 'CouncilArea',\n",
       "       'Lattitude', 'Longtitude', 'Regionname', 'Propertycount'],\n",
       "      dtype='object')"
      ]
     },
     "execution_count": 2,
     "metadata": {},
     "output_type": "execute_result"
    }
   ],
   "source": [
    "# Display all the columns from the data set\n",
    "melbourne_data.columns"
   ]
  },
  {
   "cell_type": "code",
   "execution_count": 3,
   "metadata": {},
   "outputs": [
    {
     "data": {
      "text/plain": [
       "18396"
      ]
     },
     "execution_count": 3,
     "metadata": {},
     "output_type": "execute_result"
    }
   ],
   "source": [
    "# count of records in Data Frame\n",
    "melbourne_data.shape[0]"
   ]
  },
  {
   "cell_type": "code",
   "execution_count": 4,
   "metadata": {},
   "outputs": [
    {
     "data": {
      "text/plain": [
       "6196"
      ]
     },
     "execution_count": 4,
     "metadata": {},
     "output_type": "execute_result"
    }
   ],
   "source": [
    "# dropna drops missing values (NA - Not Available)\n",
    "melbourne_data = melbourne_data.dropna(axis = 0)\n",
    "\n",
    "# count of records in Data Frame after dropping missing values\n",
    "melbourne_data.shape[0]"
   ]
  },
  {
   "cell_type": "code",
   "execution_count": 5,
   "metadata": {},
   "outputs": [
    {
     "data": {
      "text/plain": [
       "1    1035000.0\n",
       "2    1465000.0\n",
       "4    1600000.0\n",
       "6    1876000.0\n",
       "7    1636000.0\n",
       "Name: Price, dtype: float64"
      ]
     },
     "execution_count": 5,
     "metadata": {},
     "output_type": "execute_result"
    }
   ],
   "source": [
    "# Selecting prediction target\n",
    "y = melbourne_data.Price\n",
    "\n",
    "y.head()"
   ]
  },
  {
   "cell_type": "code",
   "execution_count": 6,
   "metadata": {},
   "outputs": [],
   "source": [
    "# Choosing features\n",
    "melbourne_features = ['Rooms', 'Bathroom', 'Landsize', 'Longtitude', 'Lattitude']\n",
    "\n",
    "X = melbourne_data[melbourne_features]"
   ]
  },
  {
   "cell_type": "code",
   "execution_count": 7,
   "metadata": {},
   "outputs": [
    {
     "data": {
      "text/plain": [
       "<bound method NDFrame.describe of        Rooms  Bathroom  Landsize  Longtitude  Lattitude\n",
       "1          2       1.0     156.0   144.99340  -37.80790\n",
       "2          3       2.0     134.0   144.99440  -37.80930\n",
       "4          4       1.0     120.0   144.99410  -37.80720\n",
       "6          3       2.0     245.0   144.99930  -37.80240\n",
       "7          2       1.0     256.0   144.99540  -37.80600\n",
       "...      ...       ...       ...         ...        ...\n",
       "15388      3       2.0     972.0   145.13282  -37.51232\n",
       "15389      3       1.0     179.0   144.90474  -37.86558\n",
       "15390      1       1.0       0.0   144.89936  -37.85588\n",
       "15392      2       1.0       0.0   144.99025  -37.85581\n",
       "15395      6       3.0    1087.0   144.89389  -37.81038\n",
       "\n",
       "[6196 rows x 5 columns]>"
      ]
     },
     "execution_count": 7,
     "metadata": {},
     "output_type": "execute_result"
    }
   ],
   "source": [
    "X.describe"
   ]
  },
  {
   "cell_type": "code",
   "execution_count": 8,
   "metadata": {},
   "outputs": [
    {
     "data": {
      "text/html": [
       "<div>\n",
       "<style scoped>\n",
       "    .dataframe tbody tr th:only-of-type {\n",
       "        vertical-align: middle;\n",
       "    }\n",
       "\n",
       "    .dataframe tbody tr th {\n",
       "        vertical-align: top;\n",
       "    }\n",
       "\n",
       "    .dataframe thead th {\n",
       "        text-align: right;\n",
       "    }\n",
       "</style>\n",
       "<table border=\"1\" class=\"dataframe\">\n",
       "  <thead>\n",
       "    <tr style=\"text-align: right;\">\n",
       "      <th></th>\n",
       "      <th>Rooms</th>\n",
       "      <th>Bathroom</th>\n",
       "      <th>Landsize</th>\n",
       "      <th>Longtitude</th>\n",
       "      <th>Lattitude</th>\n",
       "    </tr>\n",
       "  </thead>\n",
       "  <tbody>\n",
       "    <tr>\n",
       "      <th>1</th>\n",
       "      <td>2</td>\n",
       "      <td>1.0</td>\n",
       "      <td>156.0</td>\n",
       "      <td>144.9934</td>\n",
       "      <td>-37.8079</td>\n",
       "    </tr>\n",
       "    <tr>\n",
       "      <th>2</th>\n",
       "      <td>3</td>\n",
       "      <td>2.0</td>\n",
       "      <td>134.0</td>\n",
       "      <td>144.9944</td>\n",
       "      <td>-37.8093</td>\n",
       "    </tr>\n",
       "    <tr>\n",
       "      <th>4</th>\n",
       "      <td>4</td>\n",
       "      <td>1.0</td>\n",
       "      <td>120.0</td>\n",
       "      <td>144.9941</td>\n",
       "      <td>-37.8072</td>\n",
       "    </tr>\n",
       "    <tr>\n",
       "      <th>6</th>\n",
       "      <td>3</td>\n",
       "      <td>2.0</td>\n",
       "      <td>245.0</td>\n",
       "      <td>144.9993</td>\n",
       "      <td>-37.8024</td>\n",
       "    </tr>\n",
       "    <tr>\n",
       "      <th>7</th>\n",
       "      <td>2</td>\n",
       "      <td>1.0</td>\n",
       "      <td>256.0</td>\n",
       "      <td>144.9954</td>\n",
       "      <td>-37.8060</td>\n",
       "    </tr>\n",
       "  </tbody>\n",
       "</table>\n",
       "</div>"
      ],
      "text/plain": [
       "   Rooms  Bathroom  Landsize  Longtitude  Lattitude\n",
       "1      2       1.0     156.0    144.9934   -37.8079\n",
       "2      3       2.0     134.0    144.9944   -37.8093\n",
       "4      4       1.0     120.0    144.9941   -37.8072\n",
       "6      3       2.0     245.0    144.9993   -37.8024\n",
       "7      2       1.0     256.0    144.9954   -37.8060"
      ]
     },
     "execution_count": 8,
     "metadata": {},
     "output_type": "execute_result"
    }
   ],
   "source": [
    "X.head()"
   ]
  },
  {
   "cell_type": "code",
   "execution_count": 9,
   "metadata": {},
   "outputs": [
    {
     "data": {
      "text/plain": [
       "DecisionTreeRegressor(criterion='mse', max_depth=None, max_features=None,\n",
       "                      max_leaf_nodes=None, min_impurity_decrease=0.0,\n",
       "                      min_impurity_split=None, min_samples_leaf=1,\n",
       "                      min_samples_split=2, min_weight_fraction_leaf=0.0,\n",
       "                      presort=False, random_state=1, splitter='best')"
      ]
     },
     "execution_count": 9,
     "metadata": {},
     "output_type": "execute_result"
    }
   ],
   "source": [
    "from sklearn.tree import DecisionTreeRegressor\n",
    "\n",
    "# Defining the model\n",
    "melbourne_model = DecisionTreeRegressor(random_state = 1)\n",
    "\n",
    "# Fitting the model\n",
    "melbourne_model.fit(X,y)"
   ]
  },
  {
   "cell_type": "code",
   "execution_count": 28,
   "metadata": {},
   "outputs": [
    {
     "name": "stdout",
     "output_type": "stream",
     "text": [
      "Predicting for first 5 houses\n",
      "   Rooms  Bathroom  Landsize  Longtitude  Lattitude\n",
      "1      2       1.0     156.0    144.9934   -37.8079\n",
      "2      3       2.0     134.0    144.9944   -37.8093\n",
      "4      4       1.0     120.0    144.9941   -37.8072\n",
      "6      3       2.0     245.0    144.9993   -37.8024\n",
      "7      2       1.0     256.0    144.9954   -37.8060\n",
      "\n",
      "Predicted Prices Are:\n",
      "[1035000. 1465000. 1600000. 1876000. 1636000.]\n",
      "\n",
      "Actual Prices Are:\n",
      "1    1035000.0\n",
      "2    1465000.0\n",
      "4    1600000.0\n",
      "6    1876000.0\n",
      "7    1636000.0\n",
      "Name: Price, dtype: float64\n"
     ]
    }
   ],
   "source": [
    "print('Predicting for first 5 houses')\n",
    "print(X.head(), end = '\\n\\n')\n",
    "\n",
    "print('Predicted Prices Are:')\n",
    "print(melbourne_model.predict(X.head()), end = '\\n\\n')\n",
    "\n",
    "print('Actual Prices Are:')\n",
    "print(y.head())"
   ]
  },
  {
   "cell_type": "code",
   "execution_count": 12,
   "metadata": {},
   "outputs": [
    {
     "data": {
      "text/plain": [
       "69393.91510652033"
      ]
     },
     "execution_count": 12,
     "metadata": {},
     "output_type": "execute_result"
    }
   ],
   "source": [
    "# Let us validate the model\n",
    "from sklearn.metrics import mean_absolute_error\n",
    "\n",
    "predicted_house_prices = melbourne_model.predict(X)\n",
    "mean_absolute_error(y, predicted_house_prices)\n",
    "\n",
    "# This difference is also huge for model to predict with such weak accuracy but we have not tested with new data"
   ]
  },
  {
   "cell_type": "code",
   "execution_count": 13,
   "metadata": {},
   "outputs": [
    {
     "name": "stdout",
     "output_type": "stream",
     "text": [
      "Mean Absolute Error =  275053.8992898644\n"
     ]
    }
   ],
   "source": [
    "# We will use train_test_split to split the data and validate\n",
    "\n",
    "from sklearn.model_selection import train_test_split\n",
    "\n",
    "train_X, val_X, train_y, val_y = train_test_split(X, y, random_state = 0)\n",
    "\n",
    "melbourne_model = DecisionTreeRegressor()\n",
    "\n",
    "melbourne_model.fit(train_X, train_y)\n",
    "\n",
    "val_predictions = melbourne_model.predict(val_X)\n",
    "\n",
    "print('Mean Absolute Error = ', mean_absolute_error(val_y, val_predictions))"
   ]
  },
  {
   "cell_type": "code",
   "execution_count": 14,
   "metadata": {},
   "outputs": [],
   "source": [
    "from sklearn.metrics import mean_absolute_error\n",
    "from sklearn.tree import DecisionTreeRegressor\n",
    "\n",
    "def get_mae(max_leaf_nodes, train_X, val_X, train_y, val_y):\n",
    "    model = DecisionTreeRegressor(max_leaf_nodes = max_leaf_nodes, random_state = 0)\n",
    "    model.fit(train_X, train_y)\n",
    "    pred_val = model.predict(val_X)\n",
    "    mae = mean_absolute_error(val_y, pred_val)\n",
    "    return(mae)"
   ]
  },
  {
   "cell_type": "code",
   "execution_count": 15,
   "metadata": {},
   "outputs": [
    {
     "name": "stdout",
     "output_type": "stream",
     "text": [
      "Max Leaf Nodes: 5\t\t Mean Absolute Error:385696\n",
      "Max Leaf Nodes: 50\t\t Mean Absolute Error:279794\n",
      "Max Leaf Nodes: 500\t\t Mean Absolute Error:262650\n",
      "Max Leaf Nodes: 5000\t\t Mean Absolute Error:274002\n"
     ]
    }
   ],
   "source": [
    "# The data is already loaded into train_X, val_X, train_y and val_y using the code which we have written\n",
    "# Compare MAE witth differing values of max_leaf_nodes\n",
    "\n",
    "for max_leaf_nodes in [5, 50, 500, 5000]:\n",
    "    my_mae = get_mae(max_leaf_nodes, train_X, val_X, train_y, val_y)\n",
    "    print(\"Max Leaf Nodes: %d\\t\\t Mean Absolute Error:%d\"%(max_leaf_nodes, my_mae))"
   ]
  },
  {
   "cell_type": "code",
   "execution_count": null,
   "metadata": {},
   "outputs": [],
   "source": []
  }
 ],
 "metadata": {
  "kernelspec": {
   "display_name": "Python 3",
   "language": "python",
   "name": "python3"
  },
  "language_info": {
   "codemirror_mode": {
    "name": "ipython",
    "version": 3
   },
   "file_extension": ".py",
   "mimetype": "text/x-python",
   "name": "python",
   "nbconvert_exporter": "python",
   "pygments_lexer": "ipython3",
   "version": "3.7.5"
  }
 },
 "nbformat": 4,
 "nbformat_minor": 4
}
