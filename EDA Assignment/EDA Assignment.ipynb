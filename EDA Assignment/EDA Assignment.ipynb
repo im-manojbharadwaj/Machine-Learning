{
 "cells": [
  {
   "cell_type": "code",
   "execution_count": 30,
   "metadata": {},
   "outputs": [],
   "source": [
    "import pandas as pd\n",
    "df=pd.read_csv('adult.data.csv')"
   ]
  },
  {
   "cell_type": "code",
   "execution_count": 4,
   "metadata": {},
   "outputs": [
    {
     "data": {
      "text/html": [
       "<div>\n",
       "<style scoped>\n",
       "    .dataframe tbody tr th:only-of-type {\n",
       "        vertical-align: middle;\n",
       "    }\n",
       "\n",
       "    .dataframe tbody tr th {\n",
       "        vertical-align: top;\n",
       "    }\n",
       "\n",
       "    .dataframe thead th {\n",
       "        text-align: right;\n",
       "    }\n",
       "</style>\n",
       "<table border=\"1\" class=\"dataframe\">\n",
       "  <thead>\n",
       "    <tr style=\"text-align: right;\">\n",
       "      <th></th>\n",
       "      <th>age</th>\n",
       "      <th>workclass</th>\n",
       "      <th>fnlwgt</th>\n",
       "      <th>education</th>\n",
       "      <th>education-num</th>\n",
       "      <th>marital-status</th>\n",
       "      <th>occupation</th>\n",
       "      <th>relationship</th>\n",
       "      <th>race</th>\n",
       "      <th>sex</th>\n",
       "      <th>capital-gain</th>\n",
       "      <th>capital-loss</th>\n",
       "      <th>hours-per-week</th>\n",
       "      <th>native-country</th>\n",
       "      <th>salary</th>\n",
       "    </tr>\n",
       "  </thead>\n",
       "  <tbody>\n",
       "    <tr>\n",
       "      <th>0</th>\n",
       "      <td>39</td>\n",
       "      <td>State-gov</td>\n",
       "      <td>77516</td>\n",
       "      <td>Bachelors</td>\n",
       "      <td>13</td>\n",
       "      <td>Never-married</td>\n",
       "      <td>Adm-clerical</td>\n",
       "      <td>Not-in-family</td>\n",
       "      <td>White</td>\n",
       "      <td>Male</td>\n",
       "      <td>2174</td>\n",
       "      <td>0</td>\n",
       "      <td>40</td>\n",
       "      <td>United-States</td>\n",
       "      <td>&lt;=50K</td>\n",
       "    </tr>\n",
       "    <tr>\n",
       "      <th>1</th>\n",
       "      <td>50</td>\n",
       "      <td>Self-emp-not-inc</td>\n",
       "      <td>83311</td>\n",
       "      <td>Bachelors</td>\n",
       "      <td>13</td>\n",
       "      <td>Married-civ-spouse</td>\n",
       "      <td>Exec-managerial</td>\n",
       "      <td>Husband</td>\n",
       "      <td>White</td>\n",
       "      <td>Male</td>\n",
       "      <td>0</td>\n",
       "      <td>0</td>\n",
       "      <td>13</td>\n",
       "      <td>United-States</td>\n",
       "      <td>&lt;=50K</td>\n",
       "    </tr>\n",
       "    <tr>\n",
       "      <th>2</th>\n",
       "      <td>38</td>\n",
       "      <td>Private</td>\n",
       "      <td>215646</td>\n",
       "      <td>HS-grad</td>\n",
       "      <td>9</td>\n",
       "      <td>Divorced</td>\n",
       "      <td>Handlers-cleaners</td>\n",
       "      <td>Not-in-family</td>\n",
       "      <td>White</td>\n",
       "      <td>Male</td>\n",
       "      <td>0</td>\n",
       "      <td>0</td>\n",
       "      <td>40</td>\n",
       "      <td>United-States</td>\n",
       "      <td>&lt;=50K</td>\n",
       "    </tr>\n",
       "    <tr>\n",
       "      <th>3</th>\n",
       "      <td>53</td>\n",
       "      <td>Private</td>\n",
       "      <td>234721</td>\n",
       "      <td>11th</td>\n",
       "      <td>7</td>\n",
       "      <td>Married-civ-spouse</td>\n",
       "      <td>Handlers-cleaners</td>\n",
       "      <td>Husband</td>\n",
       "      <td>Black</td>\n",
       "      <td>Male</td>\n",
       "      <td>0</td>\n",
       "      <td>0</td>\n",
       "      <td>40</td>\n",
       "      <td>United-States</td>\n",
       "      <td>&lt;=50K</td>\n",
       "    </tr>\n",
       "    <tr>\n",
       "      <th>4</th>\n",
       "      <td>28</td>\n",
       "      <td>Private</td>\n",
       "      <td>338409</td>\n",
       "      <td>Bachelors</td>\n",
       "      <td>13</td>\n",
       "      <td>Married-civ-spouse</td>\n",
       "      <td>Prof-specialty</td>\n",
       "      <td>Wife</td>\n",
       "      <td>Black</td>\n",
       "      <td>Female</td>\n",
       "      <td>0</td>\n",
       "      <td>0</td>\n",
       "      <td>40</td>\n",
       "      <td>Cuba</td>\n",
       "      <td>&lt;=50K</td>\n",
       "    </tr>\n",
       "  </tbody>\n",
       "</table>\n",
       "</div>"
      ],
      "text/plain": [
       "   age         workclass  fnlwgt  education  education-num  \\\n",
       "0   39         State-gov   77516  Bachelors             13   \n",
       "1   50  Self-emp-not-inc   83311  Bachelors             13   \n",
       "2   38           Private  215646    HS-grad              9   \n",
       "3   53           Private  234721       11th              7   \n",
       "4   28           Private  338409  Bachelors             13   \n",
       "\n",
       "       marital-status         occupation   relationship   race     sex  \\\n",
       "0       Never-married       Adm-clerical  Not-in-family  White    Male   \n",
       "1  Married-civ-spouse    Exec-managerial        Husband  White    Male   \n",
       "2            Divorced  Handlers-cleaners  Not-in-family  White    Male   \n",
       "3  Married-civ-spouse  Handlers-cleaners        Husband  Black    Male   \n",
       "4  Married-civ-spouse     Prof-specialty           Wife  Black  Female   \n",
       "\n",
       "   capital-gain  capital-loss  hours-per-week native-country salary  \n",
       "0          2174             0              40  United-States  <=50K  \n",
       "1             0             0              13  United-States  <=50K  \n",
       "2             0             0              40  United-States  <=50K  \n",
       "3             0             0              40  United-States  <=50K  \n",
       "4             0             0              40           Cuba  <=50K  "
      ]
     },
     "execution_count": 4,
     "metadata": {},
     "output_type": "execute_result"
    }
   ],
   "source": [
    "df.head()"
   ]
  },
  {
   "cell_type": "markdown",
   "metadata": {},
   "source": [
    "### [Q] How many men and women (sex feature) are represented in this dataset?"
   ]
  },
  {
   "cell_type": "code",
   "execution_count": 5,
   "metadata": {},
   "outputs": [
    {
     "data": {
      "text/plain": [
       "Male      21790\n",
       "Female    10771\n",
       "Name: sex, dtype: int64"
      ]
     },
     "execution_count": 5,
     "metadata": {},
     "output_type": "execute_result"
    }
   ],
   "source": [
    "df['sex'].value_counts()"
   ]
  },
  {
   "cell_type": "markdown",
   "metadata": {},
   "source": [
    "### [Q] What is the average age (age feature) of women?"
   ]
  },
  {
   "cell_type": "code",
   "execution_count": 7,
   "metadata": {},
   "outputs": [
    {
     "data": {
      "text/plain": [
       "36.85823043357163"
      ]
     },
     "execution_count": 7,
     "metadata": {},
     "output_type": "execute_result"
    }
   ],
   "source": [
    "# method 1\n",
    "df[df.sex=='Female']['age'].mean()\n",
    "\n",
    "# method 2\n",
    "female_ages = df[df['sex'] == 'Female']\n",
    "female_ages.age.mean()"
   ]
  },
  {
   "cell_type": "markdown",
   "metadata": {},
   "source": [
    "## [Q] What is the percentage of German citizens (native-country feature)?"
   ]
  },
  {
   "cell_type": "code",
   "execution_count": 76,
   "metadata": {},
   "outputs": [
    {
     "name": "stdout",
     "output_type": "stream",
     "text": [
      "German People Count : Germany    137\n",
      "Name: native-country, dtype: int64 Out of :  32561\n",
      "Percentage of german people is :  Germany    0.420749\n",
      "Name: native-country, dtype: float64\n",
      "\n",
      "\n",
      "German Citizens % =  0.42074874850281013\n"
     ]
    }
   ],
   "source": [
    "# method 1\n",
    "german_count=df[df['native-country']=='Germany']['native-country'].value_counts()\n",
    "total_count=df['native-country'].count()\n",
    "print('German People Count :', german_count,'Out of : ',total_count)\n",
    "print('Percentage of german people is : ',(german_count/total_count)*100)\n",
    "print('\\n')\n",
    "\n",
    "#method 2\n",
    "print('German Citizens % = ',(df[df['native-country'] == 'Germany'].size / df.columns.size) / (df.size / df.columns.size) * 100)"
   ]
  },
  {
   "cell_type": "markdown",
   "metadata": {},
   "source": [
    "### [Q] What are the mean and standard deviation of age for those who earn more than 50K per year (salary feature) and those who earn less than 50K per year?"
   ]
  },
  {
   "cell_type": "code",
   "execution_count": 36,
   "metadata": {},
   "outputs": [
    {
     "name": "stdout",
     "output_type": "stream",
     "text": [
      "High Salary Profile Details\n",
      "Mean =  44.24984058155847\n",
      "Standard Deviation =  10.51902771985177\n",
      "\n",
      "\n",
      "Low Salary Profile Details\n",
      "Mean =  36.78373786407767\n",
      "Standard Deviation =  14.020088490824813\n"
     ]
    }
   ],
   "source": [
    "sal_high = df[df['salary'] == '>50K']\n",
    "sal_low = df[df['salary'] == '<=50K']\n",
    "\n",
    "print('High Salary Profile Details')\n",
    "print('Mean = ', sal_high.age.mean())\n",
    "print('Standard Deviation = ', sal_high.age.std())\n",
    "print('\\n')\n",
    "print('Low Salary Profile Details')\n",
    "print('Mean = ', sal_low.age.mean())\n",
    "print('Standard Deviation = ', sal_low.age.std())"
   ]
  },
  {
   "cell_type": "markdown",
   "metadata": {},
   "source": [
    "### [Q] Is it true that people who earn more than 50K have at least high school education? (education – Bachelors, Prof-school, Assoc-acdm, Assoc-voc, Masters or Doctorate feature)"
   ]
  },
  {
   "cell_type": "code",
   "execution_count": 77,
   "metadata": {},
   "outputs": [
    {
     "name": "stdout",
     "output_type": "stream",
     "text": [
      "No\n",
      "No\n"
     ]
    }
   ],
   "source": [
    "# method 1\n",
    "if df[df.salary=='>50K']['education'].str.contains('Preschool').any() == False:\n",
    "    print('No')\n",
    "else:\n",
    "    print('Yes')\n",
    "\n",
    "#method 2\n",
    "print('No' if (df[df['salary'] == '>50K']['education'] == 'Preschool').any() == False else 'Yes')"
   ]
  },
  {
   "cell_type": "markdown",
   "metadata": {},
   "source": [
    "### [Q] Display age statistics for each race (race feature) and each gender (sex feature). Use groupby() and describe(). Find the maximum age of men of Amer-Indian-Eskimo race."
   ]
  },
  {
   "cell_type": "code",
   "execution_count": 55,
   "metadata": {},
   "outputs": [
    {
     "name": "stdout",
     "output_type": "stream",
     "text": [
      "Max Age of Amer-Indian-Eskimo race:  82\n"
     ]
    }
   ],
   "source": [
    "# method 1\n",
    "# This describes only required solution for the question...\n",
    "df.groupby('race')['age'].describe()\n",
    "df[df.race=='Amer-Indian-Eskimo']['age'].max()\n",
    "\n",
    "# method 2\n",
    "# Signifies first part of question and also provides the solution\n",
    "columns_to_show = ['age', 'sex']\n",
    "df.groupby('race')[columns_to_show].describe() #execute this without print statement to obtain max values as well\n",
    "\n",
    "print('Max Age of Amer-Indian-Eskimo race: ', df[df['race'] == 'Amer-Indian-Eskimo'].age.max())"
   ]
  },
  {
   "cell_type": "markdown",
   "metadata": {},
   "source": [
    "### [Q] Among whom is the proportion of those who earn a lot (>50K) greater: married or single men (marital-status feature)? Consider as married those who have a marital-status starting with Married (Married-civ-spouse, Married-spouse-absent or Married-AF-spouse), the rest are considered bachelors."
   ]
  },
  {
   "cell_type": "code",
   "execution_count": 60,
   "metadata": {},
   "outputs": [
    {
     "name": "stdout",
     "output_type": "stream",
     "text": [
      "Married are: 5965\n",
      "Un-Married are:  697\n",
      "Ratio =  5965 / 697\n"
     ]
    }
   ],
   "source": [
    "#df[df['marital-status'][5]=='Married']['salary']\n",
    "\n",
    "\n",
    "married_count=df[(df['marital-status'].str.startswith(\"Married\")) & (df['salary']=='>50K') & (df['sex']=='Male')]['salary'].count()\n",
    "\n",
    "unmarried_count=df[(~df['marital-status'].str.startswith(\"Married\")) & (df['salary']=='>50K') & (df['sex']=='Male')]['salary'].count()\n",
    "\n",
    "print('Married are:', married_count)\n",
    "print('Un-Married are: ', unmarried_count)\n",
    "\n",
    "print('Ratio = ', married_count, '/', unmarried_count)"
   ]
  },
  {
   "cell_type": "markdown",
   "metadata": {},
   "source": [
    "### [Q] What is the maximum number of hours a person works per week (hours-per-week feature)? How many people work such a number of hours, and what is the percentage of those who earn a lot (>50K) among them?"
   ]
  },
  {
   "cell_type": "code",
   "execution_count": 68,
   "metadata": {},
   "outputs": [
    {
     "name": "stdout",
     "output_type": "stream",
     "text": [
      "Maximum number of hours a person works per week is:  99\n",
      "Number of people who work max hour:  85\n",
      "Percentage of rich hard working people =  29.411764705882355\n"
     ]
    }
   ],
   "source": [
    "max_no_hours = df['hours-per-week'].max()\n",
    "print('Maximum number of hours a person works per week is: ', max_no_hours)\n",
    "\n",
    "max_people = df[df['hours-per-week']==max_no_hours]['sex'].count()\n",
    "print('Number of people who work max hour: ', max_people)\n",
    "\n",
    "max_rich_people = df[(df['salary']=='>50K') & (df['hours-per-week'] == max_no_hours)]['salary'].count()\n",
    "print('Percentage of rich hard working people = ',(max_rich_people / max_people) * 100)"
   ]
  },
  {
   "cell_type": "markdown",
   "metadata": {},
   "source": [
    "### [Q] Count the average time of work (hours-per-week) for those who earn a little and a lot (salary) for each country (native-country). What will these be for Japan?"
   ]
  },
  {
   "cell_type": "code",
   "execution_count": 75,
   "metadata": {},
   "outputs": [
    {
     "name": "stdout",
     "output_type": "stream",
     "text": [
      "Average time of work of high earning people =  45.473026399693914\n",
      "Average time of work of low earning people =  38.840210355987054\n",
      "\n",
      "\n",
      "Japan Details\n",
      "Average time of work of high earning people =  47.958333333333336\n",
      "Average time of work of low earning people =  41.0\n"
     ]
    }
   ],
   "source": [
    "earn_more = df[df['salary'] == '>50K']\n",
    "earn_less = df[df['salary'] == '<=50K']\n",
    "\n",
    "print('Average time of work of high earning people = ', earn_more['hours-per-week'].mean())\n",
    "print('Average time of work of low earning people = ', earn_less['hours-per-week'].mean())\n",
    "print('\\n')\n",
    "print('Japan Details')\n",
    "print('Average time of work of high earning people = ', earn_more[earn_more['native-country'] == 'Japan']['hours-per-week'].mean())\n",
    "print('Average time of work of low earning people = ', earn_less[earn_less['native-country'] == 'Japan']['hours-per-week'].mean())"
   ]
  },
  {
   "cell_type": "code",
   "execution_count": null,
   "metadata": {},
   "outputs": [],
   "source": []
  }
 ],
 "metadata": {
  "kernelspec": {
   "display_name": "Python 3",
   "language": "python",
   "name": "python3"
  },
  "language_info": {
   "codemirror_mode": {
    "name": "ipython",
    "version": 3
   },
   "file_extension": ".py",
   "mimetype": "text/x-python",
   "name": "python",
   "nbconvert_exporter": "python",
   "pygments_lexer": "ipython3",
   "version": "3.6.4"
  }
 },
 "nbformat": 4,
 "nbformat_minor": 2
}
